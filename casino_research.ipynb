{
 "cells": [
  {
   "cell_type": "code",
   "execution_count": 1,
   "metadata": {},
   "outputs": [],
   "source": [
    "import random # модуль случайных чисел\n",
    "import plotly # модуль графиков \n",
    "import plotly.graph_objs as go "
   ]
  },
  {
   "cell_type": "code",
   "execution_count": 2,
   "metadata": {},
   "outputs": [],
   "source": [
    "# начальное количество денег на счете - 1 млн. условных единиц\n",
    "start_money = 1000000\n",
    "\n",
    "# коэффициент ставки\n",
    "coef_bet = 0.001  \n",
    "\n",
    "# количество побед и поражений\n",
    "win = 0 \n",
    "loose = 0\n",
    "\n",
    "# общее количество сыгранных игр\n",
    "games = 0\n",
    "\n",
    "# количество игр сыграные в первой стратегии\n",
    "# и сколько денег на счету осталось от первоначального кол - ва.\n",
    "balance1 = []\n",
    "games1 =[]"
   ]
  },
  {
   "cell_type": "code",
   "execution_count": 23,
   "metadata": {},
   "outputs": [
    {
     "name": "stdout",
     "output_type": "stream",
     "text": [
      "Выиграно ставок: 313382 или 48.6%\n",
      "Проиграно ставок: 331382 или 51.4%\n"
     ]
    }
   ],
   "source": [
    "# первая стратегия (18 черных, 18 красных, 1 зиро)\n",
    "money = start_money # обьявляю переменную количества денег\n",
    "while money > 0: # запускаю цикл работы казино\n",
    "    bet = start_money * coef_bet # обьявляю поставленную ставку (всегда одинаковая)\n",
    "    if bet > money: # проверяю что бы ставка была не больше имеющихся денег на счете\n",
    "        bet = money\n",
    "    money -= bet # списываю со счета поставленную ставку\n",
    "    balance1.append(money)\n",
    "    games1.append(len(games1) + 1)\n",
    "    cell = random.randint(1, 37) # запускаю рулетку (генератор случайных чисел)\n",
    "    if cell in range (1, 19): # проверяю выигрыш\n",
    "        money += bet*2 # если победа то ставка удвавается \n",
    "        win += 1 # и +1 победа в этом случае\n",
    "    else:\n",
    "        loose += 1 # если ставка не зашла то +1 поражение\n",
    "games = win + loose # общее число побед и поражений после окончания денег на счету\n",
    "\n",
    "print(f'Выиграно ставок: {str(win)} или {str(round(win/games*100, 1))}%')\n",
    "print(f'Проиграно ставок: {str(loose)} или {str(round(loose/games*100, 1))}%')"
   ]
  },
  {
   "cell_type": "code",
   "execution_count": null,
   "metadata": {},
   "outputs": [],
   "source": []
  },
  {
   "cell_type": "code",
   "execution_count": null,
   "metadata": {},
   "outputs": [],
   "source": []
  }
 ],
 "metadata": {
  "kernelspec": {
   "display_name": "Python 3.8.5 ('pytorch')",
   "language": "python",
   "name": "python3"
  },
  "language_info": {
   "codemirror_mode": {
    "name": "ipython",
    "version": 3
   },
   "file_extension": ".py",
   "mimetype": "text/x-python",
   "name": "python",
   "nbconvert_exporter": "python",
   "pygments_lexer": "ipython3",
   "version": "3.8.5"
  },
  "orig_nbformat": 4,
  "vscode": {
   "interpreter": {
    "hash": "4f6bc48c44a94efb491dfba2f27a05a172968f5ef73feac14db7f38fc73efa28"
   }
  }
 },
 "nbformat": 4,
 "nbformat_minor": 2
}
