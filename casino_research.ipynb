{
 "cells": [
  {
   "cell_type": "code",
   "execution_count": null,
   "metadata": {},
   "outputs": [],
   "source": [
    "import random # модуль случайных чисел\n",
    "import plotly # модуль графиков \n",
    "import plotly.graph_objs as go "
   ]
  },
  {
   "cell_type": "code",
   "execution_count": null,
   "metadata": {},
   "outputs": [],
   "source": [
    "# начальное количество денег на счете - 1 млн. условных единиц\n",
    "start_money = 1000000\n",
    "\n",
    "# постоянная ставка \n",
    "c1 = 0.001  \n",
    "\n",
    "# количество побед и поражений\n",
    "win = 0 \n",
    "loose = 0\n",
    "\n",
    "# обьявление переменной количества сыгранных игр\n",
    "games = 0"
   ]
  },
  {
   "cell_type": "code",
   "execution_count": null,
   "metadata": {},
   "outputs": [],
   "source": []
  },
  {
   "cell_type": "code",
   "execution_count": null,
   "metadata": {},
   "outputs": [],
   "source": []
  },
  {
   "cell_type": "code",
   "execution_count": null,
   "metadata": {},
   "outputs": [],
   "source": []
  }
 ],
 "metadata": {
  "kernelspec": {
   "display_name": "Python 3.8.5 ('pytorch')",
   "language": "python",
   "name": "python3"
  },
  "language_info": {
   "name": "python",
   "version": "3.8.5"
  },
  "orig_nbformat": 4,
  "vscode": {
   "interpreter": {
    "hash": "4f6bc48c44a94efb491dfba2f27a05a172968f5ef73feac14db7f38fc73efa28"
   }
  }
 },
 "nbformat": 4,
 "nbformat_minor": 2
}
